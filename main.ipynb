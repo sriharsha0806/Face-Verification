{
 "cells": [
  {
   "cell_type": "code",
   "execution_count": 1,
   "metadata": {},
   "outputs": [],
   "source": [
    "%matplotlib inline\n",
    "import random\n",
    "import math\n",
    "import os\n",
    "import cv2\n",
    "import torch.nn as nn\n",
    "import torch\n",
    "import torchvision\n",
    "import pandas as pd\n",
    "from skimage import io, transform\n",
    "import numpy as np\n",
    "import matplotlib.pyplot as plt\n",
    "from torch.utils.data import Dataset, DataLoader\n",
    "from torchvision import transforms, utils\n",
    "from PIL import Image, ImageDraw\n",
    "import matplotlib.patches as patches\n",
    "import torch.nn.functional as F\n",
    "from torch import optim"
   ]
  },
  {
   "cell_type": "code",
   "execution_count": 2,
   "metadata": {},
   "outputs": [
    {
     "data": {
      "text/html": [
       "<div>\n",
       "<style scoped>\n",
       "    .dataframe tbody tr th:only-of-type {\n",
       "        vertical-align: middle;\n",
       "    }\n",
       "\n",
       "    .dataframe tbody tr th {\n",
       "        vertical-align: top;\n",
       "    }\n",
       "\n",
       "    .dataframe thead th {\n",
       "        text-align: right;\n",
       "    }\n",
       "</style>\n",
       "<table border=\"1\" class=\"dataframe\">\n",
       "  <thead>\n",
       "    <tr style=\"text-align: right;\">\n",
       "      <th></th>\n",
       "      <th>path</th>\n",
       "      <th>class</th>\n",
       "    </tr>\n",
       "  </thead>\n",
       "  <tbody>\n",
       "    <tr>\n",
       "      <td>0</td>\n",
       "      <td>./imdb_crop/38/nm0647638_rm3867515136_1977-5-3...</td>\n",
       "      <td>Eric Christian Olsen</td>\n",
       "    </tr>\n",
       "    <tr>\n",
       "      <td>1</td>\n",
       "      <td>./imdb_crop/11/nm0267511_rm18862336_1982-3-25_...</td>\n",
       "      <td>Sean Faris</td>\n",
       "    </tr>\n",
       "    <tr>\n",
       "      <td>2</td>\n",
       "      <td>./imdb_crop/36/nm0933836_rm1606719488_1944-3-6...</td>\n",
       "      <td>Mary Wilson</td>\n",
       "    </tr>\n",
       "    <tr>\n",
       "      <td>3</td>\n",
       "      <td>./imdb_crop/14/nm0842314_rm1893177600_1971-0-0...</td>\n",
       "      <td>Vonte Sweet</td>\n",
       "    </tr>\n",
       "    <tr>\n",
       "      <td>4</td>\n",
       "      <td>./imdb_crop/37/nm0341737_rm1121027840_1968-12-...</td>\n",
       "      <td>Rachel Griffiths</td>\n",
       "    </tr>\n",
       "  </tbody>\n",
       "</table>\n",
       "</div>"
      ],
      "text/plain": [
       "                                                path                 class\n",
       "0  ./imdb_crop/38/nm0647638_rm3867515136_1977-5-3...  Eric Christian Olsen\n",
       "1  ./imdb_crop/11/nm0267511_rm18862336_1982-3-25_...            Sean Faris\n",
       "2  ./imdb_crop/36/nm0933836_rm1606719488_1944-3-6...           Mary Wilson\n",
       "3  ./imdb_crop/14/nm0842314_rm1893177600_1971-0-0...           Vonte Sweet\n",
       "4  ./imdb_crop/37/nm0341737_rm1121027840_1968-12-...      Rachel Griffiths"
      ]
     },
     "execution_count": 2,
     "metadata": {},
     "output_type": "execute_result"
    }
   ],
   "source": [
    "data = pd.read_csv('meta.csv')\n",
    "data.head()\n"
   ]
  },
  {
   "cell_type": "code",
   "execution_count": 3,
   "metadata": {},
   "outputs": [
    {
     "name": "stdout",
     "output_type": "stream",
     "text": [
      "Index(['path', 'class'], dtype='object')\n",
      "(224840, 2)\n",
      "number of classes  50546\n"
     ]
    }
   ],
   "source": [
    "print(data.columns)\n",
    "print(data.shape)\n",
    "print(\"number of classes \",len(set(data['class'])))"
   ]
  },
  {
   "cell_type": "code",
   "execution_count": 4,
   "metadata": {},
   "outputs": [],
   "source": [
    "histogram = {}\n",
    "for name in data['class']:\n",
    "    if name in histogram:\n",
    "        histogram[name] += 1\n",
    "    else:\n",
    "        histogram[name] = 1"
   ]
  },
  {
   "cell_type": "code",
   "execution_count": 5,
   "metadata": {},
   "outputs": [],
   "source": [
    "'''\n",
    "Get a list of keys from dictionary which has the given value\n",
    "'''\n",
    "def getKeysByValue(dictOfElements, valueToFind):\n",
    "    listOfKeys = [key  for (key, value) in dictOfElements.items() if value == valueToFind]\n",
    "    return  listOfKeys"
   ]
  },
  {
   "cell_type": "code",
   "execution_count": 6,
   "metadata": {},
   "outputs": [
    {
     "name": "stdout",
     "output_type": "stream",
     "text": [
      "classes with maximum examples ['Angelina Jolie'] and the number of examples 396\n",
      "\n",
      "\n",
      "number of classes with one example 38614\n"
     ]
    }
   ],
   "source": [
    "class_max = getKeysByValue(histogram, max(histogram.values()))\n",
    "class_min = getKeysByValue(histogram, min(histogram.values()))\n",
    "print(\"classes with maximum examples {} and the number of examples {}\".format(class_max, max(histogram.values())))\n",
    "print(\"\\n\")\n",
    "#print(\"classes with minimum examples {} and the number of examples {}\".format(class_min, min(histogram.values())))\n",
    "print(\"number of classes with one example {}\".format(len(class_min)))"
   ]
  },
  {
   "cell_type": "code",
   "execution_count": 7,
   "metadata": {},
   "outputs": [],
   "source": [
    "class SiameseNetworkDataset(Dataset):\n",
    "    def __init__(self,csv_file,transform = None, should_invert=True):\n",
    "        \"\"\"\n",
    "        Args: \n",
    "            csv_file (string): Path to the csv file with labels\n",
    "            transform (callable, optional): Optional transform to be \n",
    "            applied on a sample.            \n",
    "        \"\"\"\n",
    "        self.celeb_frame = pd.read_csv(csv_file)\n",
    "        self.transform = transform\n",
    "        \n",
    "    def __len__(self):\n",
    "        return len(self.celeb_frame)\n",
    "    \n",
    "    def __getitem__(self, idx):\n",
    "        if torch.is_tensor(idx):\n",
    "            idx = idx.tolist()\n",
    "            \n",
    "        n = random.randint(0, len(self.celeb_frame)-1)\n",
    "        img0_tuple = (os.path.join(self.celeb_frame.iloc[n, 0]), self.celeb_frame.iloc[n,1])\n",
    "        \n",
    "        should_get_same_class = random.randint(0,1)\n",
    "        if should_get_same_class:\n",
    "            while True:\n",
    "                m = random.randint(0, len(self.celeb_frame)-1)\n",
    "                img1_tuple = (os.path.join(self.celeb_frame.iloc[m,0]), self.celeb_frame.iloc[m,1])\n",
    "                if img0_tuple[1] == img1_tuple[1]:\n",
    "                    break\n",
    "        else:\n",
    "            while True:\n",
    "                m = random.randint(0, len(self.celeb_frame)-1)\n",
    "                img1_tuple = (os.path.join(self.celeb_frame.iloc[m,0]), self.celeb_frame.iloc[m,1])\n",
    "                if img0_tuple[1] != img1_tuple[1]:\n",
    "                    break\n",
    "        \n",
    "        img0 = Image.open(img0_tuple[0])\n",
    "        img1 = Image.open(img1_tuple[0])\n",
    "        \n",
    "        \n",
    "        # Grey Images exist: 11452         \n",
    "        if img0.mode == \"L\":\n",
    "            cv_image = np.array(img0)\n",
    "            img0 = cv2.cvtColor(cv_image, cv2.COLOR_GRAY2RGB)\n",
    "            img0 = Image.fromarray(img0)\n",
    "            \n",
    "        # Grey Images exist: 11452         \n",
    "        if img1.mode == \"L\":\n",
    "            cv_image = np.array(img1)\n",
    "            img1 = cv2.cvtColor(cv_image, cv2.COLOR_GRAY2RGB)\n",
    "            img1 = Image.fromarray(img1)\n",
    "                \n",
    "        if self.transform:\n",
    "            img0 = self.transform(img0)\n",
    "            img1 = self.transform(img1)\n",
    "        \n",
    "        return img0, img1, torch.from_numpy(np.array(\n",
    "        [int(img1_tuple[1]!=img0_tuple[1])], dtype=np.float32))\n",
    "        "
   ]
  },
  {
   "cell_type": "code",
   "execution_count": 8,
   "metadata": {},
   "outputs": [],
   "source": [
    "siamese_dataset = SiameseNetworkDataset(csv_file='meta.csv',\n",
    "                                       transform = transforms.Compose(\n",
    "                                       [transforms.Resize((100,100)),\n",
    "                                       transforms.ToTensor()\n",
    "                                       ]))                                    \n",
    "                                                                           \n",
    "                                       "
   ]
  },
  {
   "cell_type": "code",
   "execution_count": 9,
   "metadata": {},
   "outputs": [],
   "source": [
    "def imshow(img,text=None,should_save=False):\n",
    "    npimg = img.numpy()\n",
    "    plt.axis(\"off\")\n",
    "    if text:\n",
    "        plt.text(75, 8, text, style='italic',fontweight='bold',\n",
    "            bbox={'facecolor':'white', 'alpha':0.8, 'pad':10})\n",
    "    plt.imshow(np.transpose(npimg, (1, 2, 0)))\n",
    "    plt.show()    \n",
    "\n",
    "def show_plot(iteration,loss):\n",
    "    plt.plot(iteration,loss)\n",
    "    plt.show()"
   ]
  },
  {
   "cell_type": "code",
   "execution_count": 10,
   "metadata": {},
   "outputs": [
    {
     "data": {
      "image/png": "[encoded data removed]",
      "text/plain": [
       "<Figure size 432x288 with 1 Axes>"
      ]
     },
     "metadata": {
      "needs_background": "light"
     },
     "output_type": "display_data"
    },
    {
     "name": "stdout",
     "output_type": "stream",
     "text": [
      "[[0.]\n",
      " [0.]\n",
      " [0.]\n",
      " [0.]\n",
      " [1.]\n",
      " [0.]\n",
      " [0.]\n",
      " [1.]]\n"
     ]
    }
   ],
   "source": [
    "vis_dataloader = DataLoader(siamese_dataset,\n",
    "                        shuffle=True,\n",
    "                        num_workers=4,\n",
    "                        batch_size=8)\n",
    "dataiter = iter(vis_dataloader)\n",
    "example_batch = next(dataiter)\n",
    "concatenated = torch.cat((example_batch[0],example_batch[1]),0)\n",
    "imshow(torchvision.utils.make_grid(concatenated))\n",
    "print(example_batch[2].numpy())"
   ]
  },
  {
   "cell_type": "code",
   "execution_count": 11,
   "metadata": {},
   "outputs": [],
   "source": [
    "class SiameseNetwork(nn.Module):\n",
    "    def __init__(self):\n",
    "        super(SiameseNetwork, self).__init__()\n",
    "        self.cnn1 = nn.Sequential(\n",
    "            nn.ReflectionPad2d(1),\n",
    "            nn.Conv2d(3, 4, kernel_size=3),\n",
    "            nn.ReLU(inplace=True),\n",
    "            nn.BatchNorm2d(4),\n",
    "            \n",
    "            nn.ReflectionPad2d(1),\n",
    "            nn.Conv2d(4, 8, kernel_size=3),\n",
    "            nn.ReLU(inplace=True),\n",
    "            nn.BatchNorm2d(8),\n",
    "\n",
    "\n",
    "            nn.ReflectionPad2d(1),\n",
    "            nn.Conv2d(8, 8, kernel_size=3),\n",
    "            nn.ReLU(inplace=True),\n",
    "            nn.BatchNorm2d(8),\n",
    "\n",
    "\n",
    "        )\n",
    "\n",
    "        self.fc1 = nn.Sequential(\n",
    "            nn.Linear(8*100*100, 500),\n",
    "            nn.ReLU(inplace=True),\n",
    "\n",
    "            nn.Linear(500, 500),\n",
    "            nn.ReLU(inplace=True),\n",
    "\n",
    "            nn.Linear(500, 5))\n",
    "\n",
    "    def forward_once(self, x):\n",
    "        #print(x.size())\n",
    "        output = self.cnn1(x)\n",
    "        output = output.view(output.size()[0], -1)\n",
    "        output = self.fc1(output)\n",
    "        return output\n",
    "\n",
    "    def forward(self, input1, input2):\n",
    "        output1 = self.forward_once(input1)\n",
    "        output2 = self.forward_once(input2)\n",
    "        return output1, output2"
   ]
  },
  {
   "cell_type": "code",
   "execution_count": 12,
   "metadata": {},
   "outputs": [],
   "source": [
    "class ContrastiveLoss(nn.Module):\n",
    "    \"\"\"\n",
    "    Contrastive loss\n",
    "    Takes embeddings of two samples and a target label == 1 if samples are from the same class and label == 0 otherwise\n",
    "    \"\"\"\n",
    "    def __init__(self):\n",
    "        super(ContrastiveLoss, self).__init__()\n",
    "        self.margin = 2.0#margin\n",
    "        self.eps = 1e-9\n",
    "\n",
    "    def forward(self, output1, output2, target, size_average=True):\n",
    "        distances = (output2 - output1).pow(2).sum(1)  # squared distances\n",
    "        losses = 0.5 * (target.float() * distances +\n",
    "                        (1 + -1 * target).float() * F.relu(self.margin - (distances + self.eps).sqrt()).pow(2))\n",
    "        return losses.mean() if size_average else losses.sum()\n",
    "\n",
    "\n",
    "class TripletLoss(nn.Module):\n",
    "    \"\"\"\n",
    "    Triplet loss\n",
    "    Takes embeddings of an anchor sample, a positive sample and a negative sample\n",
    "    \"\"\"\n",
    "    def __init__(self, margin):\n",
    "        super(TripletLoss, self).__init__()\n",
    "        self.margin = margin\n",
    "\n",
    "    def forward(self, anchor, positive, negative, size_average=True):\n",
    "        distance_positive = (anchor - positive).pow(2).sum(1)  # .pow(.5)\n",
    "        distance_negative = (anchor - negative).pow(2).sum(1)  # .pow(.5)\n",
    "        losses = F.relu(distance_positive - distance_negative + self.margin)\n",
    "        return losses.mean() if size_average else losses.sum()"
   ]
  },
  {
   "cell_type": "code",
   "execution_count": 13,
   "metadata": {},
   "outputs": [
    {
     "data": {
      "text/plain": [
       "224840"
      ]
     },
     "execution_count": 13,
     "metadata": {},
     "output_type": "execute_result"
    }
   ],
   "source": [
    "len(siamese_dataset)"
   ]
  },
  {
   "cell_type": "code",
   "execution_count": 14,
   "metadata": {},
   "outputs": [],
   "source": [
    "validation_split = 0.8\n",
    "train_size = int(validation_split*len(siamese_dataset))\n",
    "test_size = len(siamese_dataset) - train_size\n",
    "train_dataset, test_dataset = torch.utils.data.random_split(siamese_dataset,\n",
    "                                                            [train_size, test_size])\n"
   ]
  },
  {
   "cell_type": "code",
   "execution_count": 15,
   "metadata": {},
   "outputs": [],
   "source": [
    "train_dataloader = DataLoader(train_dataset,\n",
    "                        shuffle=True,\n",
    "                        num_workers=4,\n",
    "                        batch_size=8)"
   ]
  },
  {
   "cell_type": "code",
   "execution_count": 16,
   "metadata": {},
   "outputs": [],
   "source": [
    "device = torch.device(\"cuda:0\" if torch.cuda.is_available() else \"cpu\")\n",
    "net = SiameseNetwork().to(device)\n",
    "criterion = ContrastiveLoss()\n",
    "optimizer = optim.Adam(net.parameters(),lr = 0.0005 )"
   ]
  },
  {
   "cell_type": "code",
   "execution_count": 17,
   "metadata": {},
   "outputs": [],
   "source": [
    "counter = []\n",
    "loss_history = [] \n",
    "iteration_number= 0"
   ]
  },
  {
   "cell_type": "code",
   "execution_count": null,
   "metadata": {},
   "outputs": [
    {
     "name": "stdout",
     "output_type": "stream",
     "text": [
      "Epoch number 0\n",
      " Current loss 0.8246568441390991\n",
      "\n",
      "Epoch number 0\n",
      " Current loss 3.1233601570129395\n",
      "\n",
      "Epoch number 0\n",
      " Current loss 1.0252571105957031\n",
      "\n",
      "Epoch number 0\n",
      " Current loss 0.48857513070106506\n",
      "\n",
      "Epoch number 0\n",
      " Current loss 0.8688641786575317\n",
      "\n",
      "Epoch number 0\n",
      " Current loss 0.6252179145812988\n",
      "\n",
      "Epoch number 0\n",
      " Current loss 0.5782594680786133\n",
      "\n",
      "Epoch number 0\n",
      " Current loss 0.4978314936161041\n",
      "\n",
      "Epoch number 0\n",
      " Current loss 0.5907574892044067\n",
      "\n",
      "Epoch number 0\n",
      " Current loss 0.5943681001663208\n",
      "\n",
      "Epoch number 0\n",
      " Current loss 0.6998356580734253\n",
      "\n",
      "Epoch number 0\n",
      " Current loss 0.5969418287277222\n",
      "\n",
      "Epoch number 0\n",
      " Current loss 0.4594033360481262\n",
      "\n",
      "Epoch number 0\n",
      " Current loss 0.7239252328872681\n",
      "\n",
      "Epoch number 0\n",
      " Current loss 0.511217474937439\n",
      "\n",
      "Epoch number 0\n",
      " Current loss 0.814976155757904\n",
      "\n",
      "Epoch number 0\n",
      " Current loss 0.7779919505119324\n",
      "\n",
      "Epoch number 0\n",
      " Current loss 0.6046217083930969\n",
      "\n",
      "Epoch number 0\n",
      " Current loss 0.8286335468292236\n",
      "\n"
     ]
    }
   ],
   "source": [
    "for epoch in range(0,100):\n",
    "    for i, data in enumerate(train_dataloader,0):\n",
    "        img0, img1 , label = data\n",
    "        img0, img1 , label = img0.to(device), img1.to(device) , label.to(device)\n",
    "        optimizer.zero_grad()\n",
    "        output1,output2 = net(img0,img1)\n",
    "        loss_contrastive = criterion(output1,output2,label)\n",
    "        loss_contrastive.backward()\n",
    "        optimizer.step()\n",
    "        if i %10 == 0 :\n",
    "            print(\"Epoch number {}\\n Current loss {}\\n\".format(epoch,loss_contrastive.item()))\n",
    "            iteration_number +=10\n",
    "            counter.append(iteration_number)\n",
    "            loss_history.append(loss_contrastive.item())\n",
    "show_plot(counter,loss_history)"
   ]
  },
  {
   "cell_type": "code",
   "execution_count": null,
   "metadata": {},
   "outputs": [],
   "source": [
    "# Save the model\n",
    "torch.save(net, '.')"
   ]
  },
  {
   "cell_type": "code",
   "execution_count": null,
   "metadata": {},
   "outputs": [],
   "source": [
    "# Save the model\n",
    "torch.save(net, './network.pth')"
   ]
  },
  {
   "cell_type": "code",
   "execution_count": null,
   "metadata": {},
   "outputs": [],
   "source": []
  }
 ],
 "metadata": {
  "kernelspec": {
   "display_name": "Python 3",
   "language": "python",
   "name": "python3"
  },
  "language_info": {
   "codemirror_mode": {
    "name": "ipython",
    "version": 3
   },
   "file_extension": ".py",
   "mimetype": "text/x-python",
   "name": "python",
   "nbconvert_exporter": "python",
   "pygments_lexer": "ipython3",
   "version": "3.7.3"
  }
 },
 "nbformat": 4,
 "nbformat_minor": 4
}
